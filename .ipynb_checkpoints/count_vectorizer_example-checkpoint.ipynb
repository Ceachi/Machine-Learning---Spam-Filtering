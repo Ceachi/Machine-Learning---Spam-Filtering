{
 "cells": [
  {
   "cell_type": "code",
   "execution_count": null,
   "metadata": {},
   "outputs": [],
   "source": [
    "from sklearn.feature_extraction.text import CountVectorizer\n",
    "# https://machinelearningmastery.com/prepare-text-data-machine-learning-scikit-learn/\n",
    "text = [\n",
    "    'This is the first phrase is',\n",
    "    'This is the second one',\n",
    "    'And this is the last',\n",
    "]\n",
    "test_text = ['My name is Robert']\n",
    "\n",
    "count_vect = CountVectorizer(lowercase=True, analyzer='word')\n",
    "count_vect.fit(text)  # learn the vocabulary\n",
    "\n",
    "print(count_vect.vocabulary_)\n",
    "X = count_vect.transform(text)  # sparse matrix\n",
    "\n",
    "X = X.toarray()  # numpy matrix\n",
    "print(X)\n",
    "print(count_vect.get_feature_names())\n",
    "\n",
    "X_test = count_vect.transform(test_text)\n",
    "print(X_test.toarray())"
   ]
  }
 ],
 "metadata": {
  "kernelspec": {
   "display_name": "Python 3",
   "language": "python",
   "name": "python3"
  },
  "language_info": {
   "codemirror_mode": {
    "name": "ipython",
    "version": 3
   },
   "file_extension": ".py",
   "mimetype": "text/x-python",
   "name": "python",
   "nbconvert_exporter": "python",
   "pygments_lexer": "ipython3",
   "version": "3.7.0"
  }
 },
 "nbformat": 4,
 "nbformat_minor": 2
}
