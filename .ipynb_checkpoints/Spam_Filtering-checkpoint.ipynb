{
 "cells": [
  {
   "cell_type": "code",
   "execution_count": 1,
   "metadata": {},
   "outputs": [
    {
     "data": {
      "text/plain": [
       "'\\ndataset: https://www.kaggle.com/vivekchutke/spam-ham-sms-dataset\\n\\n'"
      ]
     },
     "execution_count": 1,
     "metadata": {},
     "output_type": "execute_result"
    }
   ],
   "source": [
    "import numpy as np\n",
    "import pandas as pd # ne ajuta sa citim csv\n",
    "\n",
    "from sklearn.model_selection import StratifiedShuffleSplit #preia datele random, dar tine o proportie si cate clase sunt, sa fie totul balansat\n",
    "from sklearn.preprocessing import LabelBinarizer #iti face vectorul dau de labels in 1 sau 0\n",
    "from sklearn.feature_extraction.text import CountVectorizer\n",
    "from sklearn.naive_bayes import MultinomialNB\n",
    "from sklearn.metrics import accuracy_score, classification_report\n",
    "\n",
    "\n",
    "'''\n",
    "dataset: https://www.kaggle.com/vivekchutke/spam-ham-sms-dataset\n",
    "\n",
    "'''"
   ]
  },
  {
   "cell_type": "code",
   "execution_count": 2,
   "metadata": {},
   "outputs": [],
   "source": [
    "def get_data(filename):\n",
    "\n",
    "    df = pd.read_csv(filename, delimiter=',')\n",
    "    labels = df['type'].values\n",
    "    mesages = df['text'].values\n",
    "\n",
    "    # pos_examples = np.sum(labels == 'ham') / labels.shape[0]\n",
    "    # neg_examples = 1 - pos_examples\n",
    "    # print(pos_examples)\n",
    "    shuffle_stratified = StratifiedShuffleSplit(n_splits=1, test_size=0.2)\n",
    "\n",
    "    for train_index, test_index in shuffle_stratified.split(mesages, labels):\n",
    "        msg_train, msg_test = mesages[train_index], mesages[test_index]\n",
    "        labels_train, labels_test = labels[train_index], labels[test_index]\n",
    "\n",
    "    y_train = np.int32(labels_train == 'ham')\n",
    "    y_test = np.int32(labels_test == 'ham')\n",
    "    # print(y_train)\n",
    "\n",
    "    # label_binarizer = LabelBinarizer()\n",
    "    # label_binarizer.fit(labels_train)\n",
    "    #\n",
    "    # y_train = label_binarizer.transform(labels_train)\n",
    "    # y_test = label_binarizer.transform(labels_test)\n",
    "    # print(y_train)\n",
    "\n",
    "    return msg_train, y_train, msg_test, y_test"
   ]
  },
  {
   "cell_type": "code",
   "execution_count": 3,
   "metadata": {},
   "outputs": [
    {
     "name": "stdout",
     "output_type": "stream",
     "text": [
      "0.9811151079136691\n",
      "             precision    recall  f1-score   support\n",
      "\n",
      "          0       0.94      0.92      0.93       149\n",
      "          1       0.99      0.99      0.99       963\n",
      "\n",
      "avg / total       0.98      0.98      0.98      1112\n",
      "\n",
      "[[1.70257308e-14 1.00000000e+00]]\n"
     ]
    }
   ],
   "source": [
    "\n",
    "msg_train, y_train, msg_test, y_test = get_data('sms_spam.csv')\n",
    "\n",
    "count_vectorizer = CountVectorizer(lowercase=True, analyzer='word', stop_words='english')\n",
    "\n",
    "count_vectorizer.fit(msg_train)\n",
    "X_train = count_vectorizer.transform(msg_train)\n",
    "X_test = count_vectorizer.transform(msg_test)\n",
    "\n",
    "model = MultinomialNB(alpha=0.01)\n",
    "model.fit(X_train, y_train)\n",
    "\n",
    "predictions = model.predict(X_test)\n",
    "\n",
    "print(accuracy_score(y_test, predictions))\n",
    "print(classification_report(y_test, predictions))\n",
    "print(model.predict_proba(X_test[0]))"
   ]
  },
  {
   "cell_type": "code",
   "execution_count": null,
   "metadata": {},
   "outputs": [],
   "source": []
  }
 ],
 "metadata": {
  "kernelspec": {
   "display_name": "Python 3",
   "language": "python",
   "name": "python3"
  },
  "language_info": {
   "codemirror_mode": {
    "name": "ipython",
    "version": 3
   },
   "file_extension": ".py",
   "mimetype": "text/x-python",
   "name": "python",
   "nbconvert_exporter": "python",
   "pygments_lexer": "ipython3",
   "version": "3.7.0"
  }
 },
 "nbformat": 4,
 "nbformat_minor": 2
}
